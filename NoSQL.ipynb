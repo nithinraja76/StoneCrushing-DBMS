{
 "cells": [
  {
   "cell_type": "markdown",
   "id": "51ceafb3-a9f0-44cd-bb4e-9286baf9bb44",
   "metadata": {},
   "source": [
    "# NoSQL Implementation"
   ]
  },
  {
   "cell_type": "markdown",
   "id": "104b34e8-57b4-462b-a517-e337695686b8",
   "metadata": {},
   "source": [
    "## Connection to MongoDB and Jupyter Notebook"
   ]
  },
  {
   "cell_type": "code",
   "execution_count": 1,
   "id": "d789acb4-da4a-41a8-bc50-a028218460ba",
   "metadata": {},
   "outputs": [],
   "source": [
    "from pymongo import MongoClient\n",
    "# Connect to MongoDB\n",
    "client = MongoClient(\"mongodb://localhost:27017/\")\n",
    "db = client[\"DMAProject\"]# Replace with your MongoDB URI"
   ]
  },
  {
   "cell_type": "code",
   "execution_count": 2,
   "id": "56c807c8-eef7-4a4e-8b2a-d6ef3afa4ae9",
   "metadata": {},
   "outputs": [
    {
     "name": "stdout",
     "output_type": "stream",
     "text": [
      "['Product', 'Customer', 'Vehicle', 'RawMaterialSupplier', 'Employee', 'Inventory', 'Maintenance', 'Warehouse', 'Machinery', 'Insurance', 'EmployeeVehicle', 'PurchaseOrder', 'Delivery', 'Spares']\n"
     ]
    }
   ],
   "source": [
    "# Create or access a collection\n",
    "collection = db['DMAProject']\n",
    "\n",
    "# List all collections in the database\n",
    "print(db.list_collection_names())"
   ]
  },
  {
   "cell_type": "markdown",
   "id": "a9e1640f-abbd-47d4-8de0-4aab46d67da0",
   "metadata": {},
   "source": [
    "**To find Inventory where type is 'Rental'**"
   ]
  },
  {
   "cell_type": "code",
   "execution_count": 3,
   "id": "84b7683e-7d28-411e-80aa-d99334394a98",
   "metadata": {},
   "outputs": [
    {
     "name": "stdout",
     "output_type": "stream",
     "text": [
      "{'_id': ObjectId('67464e549702a9cd8601307b'), 'InventoryId': '15 io', 'Address': '9324 Johnston Divide', 'Type': 'Rental', 'LastUpdated': '2019-12-02'}\n",
      "{'_id': ObjectId('67464e549702a9cd8601307c'), 'InventoryId': '18 dl', 'Address': '0864 Braeden Branch Apt. 055', 'Type': 'Rental', 'LastUpdated': '2024-08-12'}\n",
      "{'_id': ObjectId('67464e549702a9cd86013083'), 'InventoryId': '39 wi', 'Address': '5753 Koch Courts Suite 911', 'Type': 'Rental', 'LastUpdated': '2022-05-12'}\n",
      "{'_id': ObjectId('67464e549702a9cd86013086'), 'InventoryId': '55 ye', 'Address': '7743 Catharine Road', 'Type': 'Rental', 'LastUpdated': '2022-02-25'}\n",
      "{'_id': ObjectId('67464e549702a9cd86013087'), 'InventoryId': '56 wb', 'Address': '162 Dalton Square Suite 427', 'Type': 'Rental', 'LastUpdated': '2023-11-28'}\n",
      "{'_id': ObjectId('67464e549702a9cd8601308a'), 'InventoryId': '90 gi', 'Address': '6491 Zieme Walks', 'Type': 'Rental', 'LastUpdated': '2020-12-31'}\n",
      "{'_id': ObjectId('67464e549702a9cd8601308c'), 'InventoryId': '95 gn', 'Address': '2243 Mikel Pines Apt. 687', 'Type': 'Rental', 'LastUpdated': '2020-04-26'}\n"
     ]
    }
   ],
   "source": [
    "result1 = db.Inventory.find({ \"Type\": \"Rental\" });\n",
    "for doc in result1:\n",
    "    print(doc)"
   ]
  },
  {
   "cell_type": "markdown",
   "id": "08a046b2-ec1f-440b-8c08-4a0c9bba41c1",
   "metadata": {},
   "source": [
    "**To find Warehouse which has 'sand' in WarehouseId**"
   ]
  },
  {
   "cell_type": "code",
   "execution_count": 4,
   "id": "639aef52-82e0-48ab-841d-6907abbb5e52",
   "metadata": {},
   "outputs": [
    {
     "name": "stdout",
     "output_type": "stream",
     "text": [
      "{'_id': ObjectId('67464e549702a9cd8601306f'), 'WarehouseID': '81 ik', 'Capacity': 45541, 'CurrentStock': 9309, 'Location': '8998 Destin Dale\\nHailieville, IL 15791', 'Warehouse_productID': '701-Msand'}\n",
      "{'_id': ObjectId('67464e549702a9cd86013070'), 'WarehouseID': '47 iz', 'Capacity': 33937, 'CurrentStock': 9892, 'Location': '57100 Ervin Pike\\nPort Mollyville, MI 81246', 'Warehouse_productID': '708-Msand'}\n",
      "{'_id': ObjectId('67464e549702a9cd86013071'), 'WarehouseID': '29 cg', 'Capacity': 71039, 'CurrentStock': 7523, 'Location': '489 Bernhard Village\\nAdalinefurt, VT 59571', 'Warehouse_productID': '801-Psand'}\n"
     ]
    }
   ],
   "source": [
    "result2 = db.Warehouse.find({\"Warehouse_productID\": {\"$regex\": \"sand\", \"$options\": \"i\"}})\n",
    "for doc in result2:\n",
    "    print(doc)"
   ]
  },
  {
   "cell_type": "markdown",
   "id": "c8650a1e-7b40-4e9a-865e-405e6a2c2f6e",
   "metadata": {},
   "source": [
    "**To find Machinery bought on or after 2024**"
   ]
  },
  {
   "cell_type": "code",
   "execution_count": 5,
   "id": "f59a14f9-84a8-4dfa-9a90-acd2104fbec6",
   "metadata": {},
   "outputs": [
    {
     "name": "stdout",
     "output_type": "stream",
     "text": [
      "{'_id': ObjectId('67464e549702a9cd86013191'), 'MachineryID': 28, 'Type': 'Vibro', 'PurchaseDate': '2024-02-11', 'InsuranceID': 98, 'Employee_Incharge': 4479}\n",
      "{'_id': ObjectId('67464e549702a9cd86013194'), 'MachineryID': 41, 'Type': 'Impact crushers', 'PurchaseDate': '2024-09-11', 'InsuranceID': 67, 'Employee_Incharge': 9223}\n",
      "{'_id': ObjectId('67464e549702a9cd86013195'), 'MachineryID': 42, 'Type': 'Classifier', 'PurchaseDate': '2024-08-09', 'InsuranceID': 74, 'Employee_Incharge': 6291}\n"
     ]
    }
   ],
   "source": [
    "result3 = db.Machinery.find({\"PurchaseDate\" : {\"$gt\": \"2024-01-01\"} })\n",
    "for doc in result3:\n",
    "    print(doc)"
   ]
  },
  {
   "cell_type": "markdown",
   "id": "c542d6fa-1574-4208-83b7-cac23a0f1ba8",
   "metadata": {},
   "source": [
    "**To find count of each type part in spares collection**"
   ]
  },
  {
   "cell_type": "code",
   "execution_count": 6,
   "id": "e2176b7a-4055-43e9-89b4-15929406d505",
   "metadata": {},
   "outputs": [
    {
     "name": "stdout",
     "output_type": "stream",
     "text": [
      "{'_id': 'Dynamic', 'count': 8}\n",
      "{'_id': 'Fixed', 'count': 24}\n",
      "{'_id': 'Moving', 'count': 18}\n"
     ]
    }
   ],
   "source": [
    "result4 = db.Spares.aggregate([{\"$group\": {\"_id\": \"$Type\", \"count\": {\"$sum\": 1}}}])\n",
    "for doc in result4:\n",
    "    print(doc)"
   ]
  },
  {
   "cell_type": "markdown",
   "id": "ce3d5dd8-310e-4238-a50d-f4059c63b077",
   "metadata": {},
   "source": [
    "**To find sum of all outstanding from customers**"
   ]
  },
  {
   "cell_type": "code",
   "execution_count": 7,
   "id": "4c477738-8748-478f-b984-9b9b7ced25f7",
   "metadata": {},
   "outputs": [
    {
     "name": "stdout",
     "output_type": "stream",
     "text": [
      "{'_id': 'null', 'TotalDue': 2484509}\n"
     ]
    }
   ],
   "source": [
    "result5 = db.Customer.aggregate([{ \"$group\": { \"_id\": \"null\", \"TotalDue\": { \"$sum\": \"$TotalDue\" }}}])\n",
    "for doc in result5:\n",
    "    print(doc)"
   ]
  }
 ],
 "metadata": {
  "kernelspec": {
   "display_name": "Python 3 (ipykernel)",
   "language": "python",
   "name": "python3"
  },
  "language_info": {
   "codemirror_mode": {
    "name": "ipython",
    "version": 3
   },
   "file_extension": ".py",
   "mimetype": "text/x-python",
   "name": "python",
   "nbconvert_exporter": "python",
   "pygments_lexer": "ipython3",
   "version": "3.12.3"
  }
 },
 "nbformat": 4,
 "nbformat_minor": 5
}
